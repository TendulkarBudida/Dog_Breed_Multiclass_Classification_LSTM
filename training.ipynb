{
 "cells": [
  {
   "cell_type": "code",
   "execution_count": 3,
   "metadata": {},
   "outputs": [
    {
     "name": "stdout",
     "output_type": "stream",
     "text": [
      "WARNING:tensorflow:From C:\\Users\\tendu\\AppData\\Local\\Packages\\PythonSoftwareFoundation.Python.3.11_qbz5n2kfra8p0\\LocalCache\\local-packages\\Python311\\site-packages\\keras\\src\\losses.py:2976: The name tf.losses.sparse_softmax_cross_entropy is deprecated. Please use tf.compat.v1.losses.sparse_softmax_cross_entropy instead.\n",
      "\n"
     ]
    }
   ],
   "source": [
    "import json\n",
    "import tensorflow as tf\n",
    "from keras.preprocessing.image import ImageDataGenerator\n",
    "from keras.applications import MobileNetV2\n",
    "from keras.models import Sequential\n",
    "from keras.layers import Dense, GlobalAveragePooling2D, Dropout\n",
    "from keras.optimizers import Adam\n",
    "from keras.callbacks import EarlyStopping, ReduceLROnPlateau"
   ]
  },
  {
   "cell_type": "code",
   "execution_count": 5,
   "metadata": {},
   "outputs": [],
   "source": [
    "# Set dataset path\n",
    "dataset_path = 'dog-breeds'"
   ]
  },
  {
   "cell_type": "code",
   "execution_count": 6,
   "metadata": {},
   "outputs": [],
   "source": [
    "# Image data generator for training and validation with augmentation\n",
    "datagen = ImageDataGenerator(\n",
    "    rescale=1./255,\n",
    "    validation_split=0.2,\n",
    "    rotation_range=20,\n",
    "    width_shift_range=0.2,\n",
    "    height_shift_range=0.2,\n",
    "    shear_range=0.2,\n",
    "    zoom_range=0.2,\n",
    "    horizontal_flip=True,\n",
    "    fill_mode='nearest'\n",
    ")"
   ]
  },
  {
   "cell_type": "code",
   "execution_count": 8,
   "metadata": {},
   "outputs": [
    {
     "name": "stdout",
     "output_type": "stream",
     "text": [
      "Found 435 images belonging to 8 classes.\n",
      "Found 106 images belonging to 8 classes.\n"
     ]
    }
   ],
   "source": [
    "# Increase image size for better feature extraction\n",
    "img_size = (224, 224)\n",
    "\n",
    "train_generator = datagen.flow_from_directory(\n",
    "    dataset_path,\n",
    "    target_size=img_size,\n",
    "    batch_size=32,\n",
    "    class_mode='categorical',\n",
    "    subset='training'\n",
    ")\n",
    "\n",
    "validation_generator = datagen.flow_from_directory(\n",
    "    dataset_path,\n",
    "    target_size=img_size,\n",
    "    batch_size=32,\n",
    "    class_mode='categorical',\n",
    "    subset='validation'\n",
    ")"
   ]
  },
  {
   "cell_type": "code",
   "execution_count": 9,
   "metadata": {},
   "outputs": [],
   "source": [
    "# Use transfer learning with MobileNetV2\n",
    "base_model = MobileNetV2(weights='imagenet', include_top=False, input_shape=(224, 224, 3))\n",
    "base_model.trainable = False\n",
    "\n",
    "model = Sequential([\n",
    "    base_model,\n",
    "    GlobalAveragePooling2D(),\n",
    "    Dense(512, activation='relu'),\n",
    "    Dropout(0.5),\n",
    "    Dense(256, activation='relu'),\n",
    "    Dropout(0.3),\n",
    "    Dense(train_generator.num_classes, activation='softmax')\n",
    "])"
   ]
  },
  {
   "cell_type": "code",
   "execution_count": 10,
   "metadata": {},
   "outputs": [],
   "source": [
    "# Compile the model with a lower initial learning rate\n",
    "initial_learning_rate = 1e-4\n",
    "model.compile(optimizer=Adam(learning_rate=initial_learning_rate),\n",
    "              loss='categorical_crossentropy',\n",
    "              metrics=['accuracy'])"
   ]
  },
  {
   "cell_type": "code",
   "execution_count": 11,
   "metadata": {},
   "outputs": [],
   "source": [
    "# Callbacks\n",
    "early_stopping = EarlyStopping(monitor='val_accuracy', patience=5, restore_best_weights=True)\n",
    "reduce_lr = ReduceLROnPlateau(monitor='val_loss', factor=0.2, patience=3, min_lr=1e-6)"
   ]
  },
  {
   "cell_type": "code",
   "execution_count": 12,
   "metadata": {},
   "outputs": [
    {
     "name": "stdout",
     "output_type": "stream",
     "text": [
      "Epoch 1/15\n",
      "14/14 [==============================] - 25s 2s/step - loss: 2.2973 - accuracy: 0.1977 - val_loss: 1.5690 - val_accuracy: 0.6604 - lr: 1.0000e-04\n",
      "Epoch 2/15\n",
      "14/14 [==============================] - 19s 1s/step - loss: 1.5517 - accuracy: 0.4690 - val_loss: 1.1514 - val_accuracy: 0.8962 - lr: 1.0000e-04\n",
      "Epoch 3/15\n",
      "14/14 [==============================] - 18s 1s/step - loss: 1.2239 - accuracy: 0.6368 - val_loss: 0.7994 - val_accuracy: 0.9528 - lr: 1.0000e-04\n",
      "Epoch 4/15\n",
      "14/14 [==============================] - 18s 1s/step - loss: 0.9093 - accuracy: 0.7862 - val_loss: 0.5662 - val_accuracy: 0.9340 - lr: 1.0000e-04\n",
      "Epoch 5/15\n",
      "14/14 [==============================] - 20s 1s/step - loss: 0.6260 - accuracy: 0.8575 - val_loss: 0.3970 - val_accuracy: 0.9623 - lr: 1.0000e-04\n",
      "Epoch 6/15\n",
      "14/14 [==============================] - 17s 1s/step - loss: 0.5275 - accuracy: 0.8828 - val_loss: 0.2973 - val_accuracy: 0.9434 - lr: 1.0000e-04\n",
      "Epoch 7/15\n",
      "14/14 [==============================] - 17s 1s/step - loss: 0.4270 - accuracy: 0.9080 - val_loss: 0.2534 - val_accuracy: 0.9623 - lr: 1.0000e-04\n",
      "Epoch 8/15\n",
      "14/14 [==============================] - 20s 1s/step - loss: 0.2983 - accuracy: 0.9333 - val_loss: 0.1874 - val_accuracy: 0.9528 - lr: 1.0000e-04\n",
      "Epoch 9/15\n",
      "14/14 [==============================] - 19s 1s/step - loss: 0.2876 - accuracy: 0.9195 - val_loss: 0.1946 - val_accuracy: 0.9434 - lr: 1.0000e-04\n",
      "Epoch 10/15\n",
      "14/14 [==============================] - 18s 1s/step - loss: 0.2221 - accuracy: 0.9402 - val_loss: 0.1864 - val_accuracy: 0.9623 - lr: 1.0000e-04\n"
     ]
    }
   ],
   "source": [
    "# Train the model\n",
    "history = model.fit(\n",
    "    train_generator,\n",
    "    epochs=15,  # Changed from 50 to 15\n",
    "    validation_data=validation_generator,\n",
    "    callbacks=[early_stopping, reduce_lr]\n",
    ")"
   ]
  },
  {
   "cell_type": "code",
   "execution_count": 13,
   "metadata": {},
   "outputs": [
    {
     "name": "stdout",
     "output_type": "stream",
     "text": [
      "4/4 [==============================] - 3s 676ms/step - loss: 0.4374 - accuracy: 0.8962\n",
      "Validation Accuracy: 89.62%\n"
     ]
    }
   ],
   "source": [
    "# Evaluate the model\n",
    "loss, accuracy = model.evaluate(validation_generator)\n",
    "print(f'Validation Accuracy: {accuracy * 100:.2f}%')"
   ]
  },
  {
   "cell_type": "code",
   "execution_count": 15,
   "metadata": {},
   "outputs": [
    {
     "name": "stdout",
     "output_type": "stream",
     "text": [
      "Model saved as 'dog_breed_classifier.keras'\n"
     ]
    }
   ],
   "source": [
    "# Save the model in the recommended .keras format\n",
    "model.save('dog_breed_classifier.keras')\n",
    "print(\"Model saved as 'dog_breed_classifier.keras'\")"
   ]
  },
  {
   "cell_type": "code",
   "execution_count": 16,
   "metadata": {},
   "outputs": [
    {
     "name": "stdout",
     "output_type": "stream",
     "text": [
      "Class labels saved as 'class_labels.json'\n"
     ]
    }
   ],
   "source": [
    "# Save the class labels as a JSON file\n",
    "class_labels = train_generator.class_indices\n",
    "with open('class_labels.json', 'w') as f:\n",
    "    json.dump(class_labels, f)\n",
    "print(\"Class labels saved as 'class_labels.json'\")"
   ]
  }
 ],
 "metadata": {
  "kernelspec": {
   "display_name": "Python 3",
   "language": "python",
   "name": "python3"
  },
  "language_info": {
   "codemirror_mode": {
    "name": "ipython",
    "version": 3
   },
   "file_extension": ".py",
   "mimetype": "text/x-python",
   "name": "python",
   "nbconvert_exporter": "python",
   "pygments_lexer": "ipython3",
   "version": "3.11.9"
  }
 },
 "nbformat": 4,
 "nbformat_minor": 2
}
